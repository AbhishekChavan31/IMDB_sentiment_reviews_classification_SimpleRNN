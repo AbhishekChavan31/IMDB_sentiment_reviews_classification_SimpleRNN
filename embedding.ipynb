{
 "cells": [
  {
   "cell_type": "code",
   "execution_count": 11,
   "metadata": {},
   "outputs": [],
   "source": [
    "from tensorflow.keras.preprocessing.text import one_hot"
   ]
  },
  {
   "cell_type": "code",
   "execution_count": 12,
   "metadata": {},
   "outputs": [
    {
     "data": {
      "text/plain": [
       "['the glass of milk',\n",
       " 'the glass of juice',\n",
       " 'the cup of tea',\n",
       " 'I am a good boy',\n",
       " 'I am a good developer',\n",
       " 'understand the meaning of words',\n",
       " 'your videos are good']"
      ]
     },
     "execution_count": 12,
     "metadata": {},
     "output_type": "execute_result"
    }
   ],
   "source": [
    "sent = [\n",
    "    'the glass of milk',\n",
    "    'the glass of juice',\n",
    "    'the cup of tea',\n",
    "    'I am a good boy',\n",
    "    'I am a good developer',\n",
    "    'understand the meaning of words',\n",
    "    'your videos are good'\n",
    "]\n",
    "sent"
   ]
  },
  {
   "cell_type": "code",
   "execution_count": 13,
   "metadata": {},
   "outputs": [],
   "source": [
    "### Define the vocabulary size\n",
    "\n",
    "voc_size = 10000"
   ]
  },
  {
   "cell_type": "code",
   "execution_count": 14,
   "metadata": {},
   "outputs": [
    {
     "data": {
      "text/plain": [
       "[[3217, 4820, 9503, 2596],\n",
       " [3217, 4820, 9503, 600],\n",
       " [3217, 2169, 9503, 7625],\n",
       " [4479, 2028, 9046, 9433, 1206],\n",
       " [4479, 2028, 9046, 9433, 8710],\n",
       " [7251, 3217, 1454, 9503, 8805],\n",
       " [6731, 9640, 7646, 9433]]"
      ]
     },
     "execution_count": 14,
     "metadata": {},
     "output_type": "execute_result"
    }
   ],
   "source": [
    "## One hot representation for every word\n",
    "one_hot_repe = [one_hot(words, voc_size) for words in sent]\n",
    "one_hot_repe    "
   ]
  },
  {
   "cell_type": "code",
   "execution_count": 15,
   "metadata": {},
   "outputs": [],
   "source": [
    "## Word embedding representation\n",
    "\n",
    "from tensorflow.keras.layers import Embedding\n",
    "from tensorflow.keras.preprocessing.sequence import pad_sequences\n",
    "from tensorflow.keras.models import Sequential\n",
    "import numpy as np"
   ]
  },
  {
   "cell_type": "code",
   "execution_count": 18,
   "metadata": {},
   "outputs": [
    {
     "data": {
      "text/plain": [
       "array([[   0,    0,    0,    0, 3217, 4820, 9503, 2596],\n",
       "       [   0,    0,    0,    0, 3217, 4820, 9503,  600],\n",
       "       [   0,    0,    0,    0, 3217, 2169, 9503, 7625],\n",
       "       [   0,    0,    0, 4479, 2028, 9046, 9433, 1206],\n",
       "       [   0,    0,    0, 4479, 2028, 9046, 9433, 8710],\n",
       "       [   0,    0,    0, 7251, 3217, 1454, 9503, 8805],\n",
       "       [   0,    0,    0,    0, 6731, 9640, 7646, 9433]], dtype=int32)"
      ]
     },
     "execution_count": 18,
     "metadata": {},
     "output_type": "execute_result"
    }
   ],
   "source": [
    "sent_length = 8\n",
    "embedded_docs = pad_sequences(one_hot_repe,padding='pre', maxlen=sent_length)\n",
    "embedded_docs"
   ]
  },
  {
   "cell_type": "code",
   "execution_count": 19,
   "metadata": {},
   "outputs": [],
   "source": [
    "### Feature representation\n",
    "dim = 10\n"
   ]
  },
  {
   "cell_type": "code",
   "execution_count": 20,
   "metadata": {},
   "outputs": [
    {
     "name": "stderr",
     "output_type": "stream",
     "text": [
      "2024-10-26 07:09:50.357465: E external/local_xla/xla/stream_executor/cuda/cuda_driver.cc:274] failed call to cuInit: CUDA_ERROR_UNKNOWN: unknown error\n",
      "2024-10-26 07:09:50.357590: I external/local_xla/xla/stream_executor/cuda/cuda_diagnostics.cc:129] retrieving CUDA diagnostic information for host: panda-dellg155510\n",
      "2024-10-26 07:09:50.357602: I external/local_xla/xla/stream_executor/cuda/cuda_diagnostics.cc:136] hostname: panda-dellg155510\n",
      "2024-10-26 07:09:50.357849: I external/local_xla/xla/stream_executor/cuda/cuda_diagnostics.cc:159] libcuda reported version is: 535.183.1\n",
      "2024-10-26 07:09:50.357876: I external/local_xla/xla/stream_executor/cuda/cuda_diagnostics.cc:163] kernel reported version is: 535.183.1\n",
      "2024-10-26 07:09:50.357882: I external/local_xla/xla/stream_executor/cuda/cuda_diagnostics.cc:241] kernel version seems to match DSO: 535.183.1\n"
     ]
    }
   ],
   "source": [
    "model = Sequential()\n",
    "model.add(Embedding(voc_size, dim, input_length=sent_length))\n",
    "model.compile('adam', 'mse')\n"
   ]
  },
  {
   "cell_type": "code",
   "execution_count": 21,
   "metadata": {},
   "outputs": [
    {
     "name": "stdout",
     "output_type": "stream",
     "text": [
      "Model: \"sequential\"\n",
      "_________________________________________________________________\n",
      " Layer (type)                Output Shape              Param #   \n",
      "=================================================================\n",
      " embedding (Embedding)       (None, 8, 10)             100000    \n",
      "                                                                 \n",
      "=================================================================\n",
      "Total params: 100000 (390.62 KB)\n",
      "Trainable params: 100000 (390.62 KB)\n",
      "Non-trainable params: 0 (0.00 Byte)\n",
      "_________________________________________________________________\n"
     ]
    }
   ],
   "source": [
    "model.summary()"
   ]
  },
  {
   "cell_type": "code",
   "execution_count": 24,
   "metadata": {},
   "outputs": [
    {
     "name": "stdout",
     "output_type": "stream",
     "text": [
      "1/1 [==============================] - 0s 36ms/step\n"
     ]
    },
    {
     "data": {
      "text/plain": [
       "array([[-0.03569342,  0.02827174,  0.03948599,  0.00390595,  0.04665916,\n",
       "        -0.02902162, -0.0145851 , -0.02760065,  0.02817198,  0.02619573],\n",
       "       [-0.03569342,  0.02827174,  0.03948599,  0.00390595,  0.04665916,\n",
       "        -0.02902162, -0.0145851 , -0.02760065,  0.02817198,  0.02619573],\n",
       "       [-0.03569342,  0.02827174,  0.03948599,  0.00390595,  0.04665916,\n",
       "        -0.02902162, -0.0145851 , -0.02760065,  0.02817198,  0.02619573],\n",
       "       [-0.03569342,  0.02827174,  0.03948599,  0.00390595,  0.04665916,\n",
       "        -0.02902162, -0.0145851 , -0.02760065,  0.02817198,  0.02619573],\n",
       "       [-0.01856464, -0.00771762, -0.01545639, -0.04779635, -0.0357913 ,\n",
       "         0.01890928,  0.02382772, -0.03282739, -0.00104898,  0.03512641],\n",
       "       [ 0.04371433,  0.01198652,  0.02874452,  0.00924703,  0.03449604,\n",
       "        -0.04223558, -0.0075116 ,  0.00405531, -0.02543694, -0.03489591],\n",
       "       [ 0.01149774, -0.01934819,  0.01227925, -0.04635138,  0.01423974,\n",
       "        -0.04072596,  0.01253569,  0.02531869, -0.03867619, -0.03201311],\n",
       "       [-0.00505709, -0.02380635, -0.00813048, -0.0303341 , -0.02731835,\n",
       "         0.00855972,  0.00623363,  0.03211818,  0.01731838, -0.04235878]],\n",
       "      dtype=float32)"
      ]
     },
     "execution_count": 24,
     "metadata": {},
     "output_type": "execute_result"
    }
   ],
   "source": [
    "model.predict(embedded_docs[0])"
   ]
  },
  {
   "cell_type": "code",
   "execution_count": 23,
   "metadata": {},
   "outputs": [
    {
     "data": {
      "text/plain": [
       "array([   0,    0,    0,    0, 3217, 4820, 9503, 2596], dtype=int32)"
      ]
     },
     "execution_count": 23,
     "metadata": {},
     "output_type": "execute_result"
    }
   ],
   "source": [
    "embedded_docs[0]"
   ]
  },
  {
   "cell_type": "code",
   "execution_count": null,
   "metadata": {},
   "outputs": [],
   "source": []
  }
 ],
 "metadata": {
  "kernelspec": {
   "display_name": "Python 3",
   "language": "python",
   "name": "python3"
  },
  "language_info": {
   "codemirror_mode": {
    "name": "ipython",
    "version": 3
   },
   "file_extension": ".py",
   "mimetype": "text/x-python",
   "name": "python",
   "nbconvert_exporter": "python",
   "pygments_lexer": "ipython3",
   "version": "3.11.0"
  }
 },
 "nbformat": 4,
 "nbformat_minor": 2
}
